{
 "cells": [
  {
   "cell_type": "markdown",
   "id": "93a001ba",
   "metadata": {},
   "source": [
    "Tutorial for wrangling and analyzing data\n",
    "\n",
    "Intro: \n",
    "Have you ever wondered if you can predict the stock market? If you can predict the future, even? Of course, nobody knows for sure, and this tutorial is NOT meant for someone to perfectly predict when the stock market will increase, or decrease. However, by learning how to properly wrangle and analyze data, somebody can make an investment decision with a better understanding of these things. This tutorial is meant to teach people to properly wrnagle and orgaznie data in a way that they can glean information from it, allowing them to make educated decisions.\n",
    "\n",
    "Step 1:\n",
    "Choose your dataset. This can be a dataset of anything you're interested in learning more about. For this tutorial, we will be working with this dataset of stock market prices by day and month, and analyzing its seasonality. \n"
   ]
  },
  {
   "cell_type": "markdown",
   "id": "4f3b0122",
   "metadata": {},
   "source": [
    "Read your dataset into the code with this:\n"
   ]
  },
  {
   "cell_type": "code",
   "execution_count": 14,
   "id": "e98eff4e",
   "metadata": {},
   "outputs": [],
   "source": [
    "import pandas as pd\n",
    "df = pd.read_csv(\"C:\\\\Users\\\\Isaac\\\\OneDrive\\\\Documents\\\\fall 2025 semester\\\\STAT 386\\\\HistoricalData_1758833379259.csv\")"
   ]
  },
  {
   "cell_type": "markdown",
   "id": "e11fd1bd",
   "metadata": {},
   "source": [
    "Great! Now that you've got it read in, you can start playing with it."
   ]
  },
  {
   "cell_type": "code",
   "execution_count": 15,
   "id": "b593d446",
   "metadata": {},
   "outputs": [
    {
     "name": "stdout",
     "output_type": "stream",
     "text": [
      "        Date  Close/Last      Open      High       Low\n",
      "0  9/24/2025    22497.85  22656.02  22657.45  22397.00\n",
      "1  9/23/2025    22573.47  22782.72  22785.13  22539.04\n",
      "2  9/22/2025    22788.98  22606.59  22801.90  22590.86\n",
      "3  9/19/2025    22631.48  22554.32  22645.11  22497.71\n",
      "4  9/18/2025    22470.73  22439.11  22540.93  22358.49\n"
     ]
    }
   ],
   "source": [
    "print(df.head())"
   ]
  },
  {
   "cell_type": "markdown",
   "id": "f93fd4ac",
   "metadata": {},
   "source": [
    "allows you to see the first few rows of the dataset.\n",
    "\n",
    "Step 2:\n",
    "Wrnagle and clean the data. The dataset will inevitably have certtian things that you don't care about, or that you don't want to sue. You will have to remove certain rows and columns from the data, as well as certain parts that might have N/A or empty values in them. You will also have to perform some transformations. For this dataset, we will have to figure out what the days of the week are for each date in the dataset"
   ]
  },
  {
   "cell_type": "code",
   "execution_count": 16,
   "id": "b323462e",
   "metadata": {},
   "outputs": [],
   "source": [
    "df_last_year = df.iloc[:365]"
   ]
  },
  {
   "cell_type": "markdown",
   "id": "39f1fb74",
   "metadata": {},
   "source": [
    "This command, .iloc[], made it so the dataset is now only the top 365 rows, so that now we only have the last year in our dataset, and the rest is trimmed out. Now we must figure out how to change the date values into the names of days of the week."
   ]
  },
  {
   "cell_type": "code",
   "execution_count": 17,
   "id": "28566c08",
   "metadata": {},
   "outputs": [
    {
     "name": "stdout",
     "output_type": "stream",
     "text": [
      "        Date  Close/Last      Open      High       Low\n",
      "0 2025-09-24    22497.85  22656.02  22657.45  22397.00\n",
      "1 2025-09-23    22573.47  22782.72  22785.13  22539.04\n",
      "2 2025-09-22    22788.98  22606.59  22801.90  22590.86\n",
      "3 2025-09-19    22631.48  22554.32  22645.11  22497.71\n",
      "4 2025-09-18    22470.73  22439.11  22540.93  22358.49\n"
     ]
    }
   ],
   "source": [
    "df_last_year[\"Date\"] = pd.to_datetime(df_last_year[\"Date\"])\n",
    "print(df_last_year.head())"
   ]
  },
  {
   "cell_type": "markdown",
   "id": "214c5502",
   "metadata": {},
   "source": [
    "This code makes sure that it in the dataset, the dates are recognized as acutal days, not as just some weird numbers.\n",
    "Now we will create a column in which the names of the days are listed, as in days of the week. For the sake of organization, I will move the column of day names to the left side."
   ]
  },
  {
   "cell_type": "code",
   "execution_count": 18,
   "id": "97ad78fd",
   "metadata": {},
   "outputs": [],
   "source": [
    "df_last_year[\"Day of Week\"] = df_last_year[\"Date\"].dt.day_name()\n",
    "df_last_year.insert(0, \"Day of week\", df_last_year[\"Day of Week\"])\n",
    "df_last_year = df_last_year.drop(df_last_year.columns[6], axis=1) "
   ]
  },
  {
   "cell_type": "markdown",
   "id": "ef21b81f",
   "metadata": {},
   "source": [
    "Now let's check that we did your code correctly:"
   ]
  },
  {
   "cell_type": "code",
   "execution_count": 19,
   "id": "f4ef414a",
   "metadata": {},
   "outputs": [
    {
     "name": "stdout",
     "output_type": "stream",
     "text": [
      "  Day of week       Date  Close/Last      Open      High       Low\n",
      "0   Wednesday 2025-09-24    22497.85  22656.02  22657.45  22397.00\n",
      "1     Tuesday 2025-09-23    22573.47  22782.72  22785.13  22539.04\n",
      "2      Monday 2025-09-22    22788.98  22606.59  22801.90  22590.86\n",
      "3      Friday 2025-09-19    22631.48  22554.32  22645.11  22497.71\n",
      "4    Thursday 2025-09-18    22470.73  22439.11  22540.93  22358.49\n"
     ]
    }
   ],
   "source": [
    "print(df_last_year.head())"
   ]
  },
  {
   "cell_type": "markdown",
   "id": "0b8ea3af",
   "metadata": {},
   "source": [
    "I had accidentally removed the \"Low\" column, but luckily that wasn't a column we needed. I also removed the column that added the day of the week name on the end, so that we only have one column with the day names."
   ]
  },
  {
   "cell_type": "markdown",
   "id": "36321cd5",
   "metadata": {},
   "source": [
    "Now we will further filter the dataset to prepare to create a table, showing the average value of the NASDAQ for each day ofht eweek. For this I will want to remove the \"Date\", \"Open\", and \"High\" columns as we will use \"Close/Last\" as the value to measure a day's sotck value by."
   ]
  },
  {
   "cell_type": "code",
   "execution_count": 20,
   "id": "9ff26080",
   "metadata": {},
   "outputs": [],
   "source": [
    "df_last_year = df_last_year.drop(['Date', 'Open', 'High', 'Low'], axis=1) "
   ]
  },
  {
   "cell_type": "markdown",
   "id": "60550d18",
   "metadata": {},
   "source": [
    "And let's check again that those columns were removed properly:"
   ]
  },
  {
   "cell_type": "code",
   "execution_count": 21,
   "id": "21097c9a",
   "metadata": {},
   "outputs": [
    {
     "name": "stdout",
     "output_type": "stream",
     "text": [
      "  Day of week  Close/Last\n",
      "0   Wednesday    22497.85\n",
      "1     Tuesday    22573.47\n",
      "2      Monday    22788.98\n",
      "3      Friday    22631.48\n",
      "4    Thursday    22470.73\n"
     ]
    }
   ],
   "source": [
    "print(df_last_year.head())"
   ]
  },
  {
   "cell_type": "markdown",
   "id": "b1abf109",
   "metadata": {},
   "source": [
    "PErfect!"
   ]
  },
  {
   "cell_type": "markdown",
   "id": "a5bcdaab",
   "metadata": {},
   "source": [
    "Now I want to make the table. I will do this by using the groupby function in python to group all of the days together. I will then create a column of the average value for each day."
   ]
  },
  {
   "cell_type": "code",
   "execution_count": 25,
   "id": "1623cddf",
   "metadata": {},
   "outputs": [],
   "source": [
    "df_day_avg = df_last_year.groupby('Day of week')['Close/Last'].mean().reset_index()"
   ]
  },
  {
   "cell_type": "code",
   "execution_count": 26,
   "id": "fadc6cb0",
   "metadata": {},
   "outputs": [
    {
     "name": "stdout",
     "output_type": "stream",
     "text": [
      "  Day of week    Close/Last\n",
      "0      Friday  19383.032400\n",
      "1      Monday  19313.610000\n",
      "2    Thursday  19341.598776\n",
      "3     Tuesday  19380.594808\n",
      "4   Wednesday  19416.199216\n"
     ]
    }
   ],
   "source": [
    "print(df_day_avg)"
   ]
  },
  {
   "cell_type": "markdown",
   "id": "addb393f",
   "metadata": {},
   "source": [
    "Now it's time to make that graphic! Fir this data, a bar chart makes the most sense. Here we'll create a bar chart showing the five days of the week that the stock market is open, and the average closing price at each of those days. Let's also reorganize the order of the days so that it's Monday - Friday."
   ]
  },
  {
   "cell_type": "code",
   "execution_count": 30,
   "id": "1cdab5ed",
   "metadata": {},
   "outputs": [
    {
     "data": {
      "text/plain": [
       "<Axes: title={'center': 'NASDAQ average by Day of Week'}, xlabel='Day of week'>"
      ]
     },
     "execution_count": 30,
     "metadata": {},
     "output_type": "execute_result"
    },
    {
     "data": {
      "image/png": "[encoded data removed]",
      "text/plain": [
       "<Figure size 640x480 with 1 Axes>"
      ]
     },
     "metadata": {},
     "output_type": "display_data"
    }
   ],
   "source": [
    "order = [\"Monday\", \"Tuesday\", \"Wednesday\", \"Thursday\", \"Friday\"]\n",
    "df_day_avg[\"Day of week\"] = pd.Categorical(df_day_avg[\"Day of week\"], categories=order, ordered=True)\n",
    "df_day_avg = df_day_avg.sort_values(\"Day of week\")\n",
    "df_day_avg.plot(kind=\"bar\", x=\"Day of week\", y=\"Close/Last\", legend=False, title=\"NASDAQ average by Day of Week\")"
   ]
  },
  {
   "cell_type": "markdown",
   "id": "d097c149",
   "metadata": {},
   "source": [
    "Here's the graph, with the days in order from left to right. While there is a difference, it is so small compared to this scale that it is hard to see any differences at all. Let's scale the bar chart differently so that we can see the differences more easily:"
   ]
  },
  {
   "cell_type": "code",
   "execution_count": 31,
   "id": "178662b2",
   "metadata": {},
   "outputs": [
    {
     "data": {
      "text/plain": [
       "<Axes: title={'center': 'NASDAQ average by Day of Week'}, xlabel='Day of week'>"
      ]
     },
     "execution_count": 31,
     "metadata": {},
     "output_type": "execute_result"
    },
    {
     "data": {
      "image/png": "[encoded data removed]",
      "text/plain": [
       "<Figure size 640x480 with 1 Axes>"
      ]
     },
     "metadata": {},
     "output_type": "display_data"
    }
   ],
   "source": [
    "day_plot = df_day_avg.plot(kind=\"bar\", x=\"Day of week\", y=\"Close/Last\", legend=False, title=\"NASDAQ average by Day of Week\")\n",
    "day_plot.set_ylim(19250, 19500)\n",
    "day_plot"
   ]
  },
  {
   "cell_type": "markdown",
   "id": "96716c2f",
   "metadata": {},
   "source": [
    "Here, we can see it scaled differently from 19250 to 19500, and at this scale we can see that certian days of the week have higher average values than others, over the last two years. Though the difference is overall still pretty small, we can see there is a difference, and it looks like it is highest on Wednesdays, while lowest on Mondays."
   ]
  }
 ],
 "metadata": {
  "jupytext": {
   "cell_metadata_filter": "-all",
   "main_language": "python",
   "notebook_metadata_filter": "-all"
  },
  "kernelspec": {
   "display_name": "Python 3",
   "language": "python",
   "name": "python3"
  },
  "language_info": {
   "codemirror_mode": {
    "name": "ipython",
    "version": 3
   },
   "file_extension": ".py",
   "mimetype": "text/x-python",
   "name": "python",
   "nbconvert_exporter": "python",
   "pygments_lexer": "ipython3",
   "version": "3.13.3"
  }
 },
 "nbformat": 4,
 "nbformat_minor": 5
}
